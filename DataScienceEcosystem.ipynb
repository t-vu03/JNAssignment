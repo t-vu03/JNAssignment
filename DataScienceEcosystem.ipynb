{
 "cells": [
  {
   "cell_type": "markdown",
   "id": "ddae4faa-2934-45b1-ad78-2c75a83b3ac5",
   "metadata": {},
   "source": [
    "# Data Science Tools and Ecosystem"
   ]
  },
  {
   "attachments": {},
   "cell_type": "markdown",
   "id": "bd464934-37b3-4e67-8be2-a1cdc3cb689b",
   "metadata": {},
   "source": [
    "In this notebook, Data Science Tools and Ecosystem are summarized. This will provide an overview of tools, libraries, and other technologies used in data science, including progamming languages, data visualization libraries, and different learning frameworks. The goal is to understand how these different aspects of data science work together to support data analysis and decision making."
   ]
  },
  {
   "cell_type": "markdown",
   "id": "74cff55f-b11a-4c2d-9721-4b24a63b2989",
   "metadata": {},
   "source": [
    "**Objectives:**\n",
    "\n",
    "- List popular languages for Data Science\n",
    "- List commonly used libraries in Data Science\n",
    "- Identify tools for data science development\n",
    "- Evaluate simple arithmetic expressions in Python"
   ]
  },
  {
   "cell_type": "markdown",
   "id": "fadef0d8-0453-4b41-8c3e-bff04da23aef",
   "metadata": {},
   "source": [
    "Here are some commonly used languages by Data Scientists:\n",
    "- Python\n",
    "- SQL\n",
    "- R\n",
    "- Julia"
   ]
  },
  {
   "cell_type": "markdown",
   "id": "fc1e23dc-c172-47c7-bb16-8fc77b5a2908",
   "metadata": {},
   "source": [
    "There are many libraries used by Data Scientists for different purposes, so here are some of them:\n",
    "1. For data manipulation:\n",
    "- pandas\n",
    "- numpy\n",
    "\n",
    "2. For data visualization:\n",
    "- matplotlib\n",
    "- seaborn\n",
    "\n",
    "3. For machine learning and deep learning:\n",
    "- scikit-learn\n",
    "- TensorFlow"
   ]
  },
  {
   "cell_type": "markdown",
   "id": "292e2af9-7139-4333-b726-b7947849df1b",
   "metadata": {},
   "source": [
    "| Data Science Tools |\n",
    "|-------------------|\n",
    "| Jupyter Notebook  |\n",
    "| RStudio           |\n",
    "| VS Code           |"
   ]
  },
  {
   "cell_type": "markdown",
   "id": "d0a44a9a-a5a5-4265-8085-4e8d75bc29db",
   "metadata": {},
   "source": [
    "### Below are a few examples of evaluating arithmetic expressions in Python."
   ]
  },
  {
   "cell_type": "code",
   "execution_count": 6,
   "id": "f3c0e2ce-e9ad-48e4-801d-90c77fdf650d",
   "metadata": {},
   "outputs": [
    {
     "data": {
      "text/plain": [
       "17"
      ]
     },
     "execution_count": 6,
     "metadata": {},
     "output_type": "execute_result"
    }
   ],
   "source": [
    "# This is a simple arithmetic expression to multiply then add integers\n",
    "(3 * 4) + 5"
   ]
  },
  {
   "cell_type": "code",
   "execution_count": 8,
   "id": "f8823c27-f2b1-4b2e-bfd2-3c0141cdc39c",
   "metadata": {},
   "outputs": [
    {
     "data": {
      "text/plain": [
       "3.3333333333333335"
      ]
     },
     "execution_count": 8,
     "metadata": {},
     "output_type": "execute_result"
    }
   ],
   "source": [
    "# This will convert 200 minutes to hours by dividing by 60\n",
    "200 / 60"
   ]
  },
  {
   "cell_type": "markdown",
   "id": "dca8ce6a-06b1-40ed-93db-af8aadeaa156",
   "metadata": {},
   "source": [
    "## Author\n",
    "Thu Vu"
   ]
  }
 ],
 "metadata": {
  "kernelspec": {
   "display_name": "Python 3 (ipykernel)",
   "language": "python",
   "name": "python3"
  },
  "language_info": {
   "codemirror_mode": {
    "name": "ipython",
    "version": 3
   },
   "file_extension": ".py",
   "mimetype": "text/x-python",
   "name": "python",
   "nbconvert_exporter": "python",
   "pygments_lexer": "ipython3",
   "version": "3.12.7"
  }
 },
 "nbformat": 4,
 "nbformat_minor": 5
}
